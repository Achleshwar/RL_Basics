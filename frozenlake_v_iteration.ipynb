{
  "nbformat": 4,
  "nbformat_minor": 0,
  "metadata": {
    "colab": {
      "name": "frozenlake-v_iteration.ipynb",
      "provenance": []
    },
    "kernelspec": {
      "name": "python3",
      "display_name": "Python 3"
    }
  },
  "cells": [
    {
      "cell_type": "markdown",
      "metadata": {
        "id": "OkzD9cx-S9vF",
        "colab_type": "text"
      },
      "source": [
        "In the beginning, we import used packages and\n",
        "define constants"
      ]
    },
    {
      "cell_type": "code",
      "metadata": {
        "id": "00A8ZHDMbPER",
        "colab_type": "code",
        "colab": {}
      },
      "source": [
        "import numpy \n",
        "import gym\n",
        "import collections"
      ],
      "execution_count": 1,
      "outputs": []
    },
    {
      "cell_type": "code",
      "metadata": {
        "id": "kZNwiaSSfki1",
        "colab_type": "code",
        "colab": {}
      },
      "source": [
        "ENV_NAME = 'FrozenLake-v0'\n",
        "GAMMA = 0.9\n",
        "TEST_EPISODES = 20"
      ],
      "execution_count": 11,
      "outputs": []
    },
    {
      "cell_type": "markdown",
      "metadata": {
        "id": "tG8NB1UoTGFm",
        "colab_type": "text"
      },
      "source": [
        "Then we define the Agent class, which will keep our tables and contain functions\n",
        "we'll be using in the training loop:"
      ]
    },
    {
      "cell_type": "code",
      "metadata": {
        "id": "IDta7U5kSuTD",
        "colab_type": "code",
        "colab": {}
      },
      "source": [
        "class Agent:\n",
        "  def __init__(self):\n",
        "    self.env = gym.make(ENV_NAME)\n",
        "    self.state = self.env.reset()\n",
        "    self.rewards = collections.defaultdict(float)\n",
        "    self.transits = collections.defaultdict(collections.Counter)\n",
        "    self.values = collections.defaultdict(float)\n",
        "\n",
        "  def play_n_random_steps(self, count):\n",
        "    for _ in range(count):\n",
        "      action = self.env.action_space.sample()\n",
        "      new_state, reward, is_done, _ = self.env.step(action)\n",
        "      self.rewards[(self.state, action, new_state)] = reward\n",
        "      self.transits[(self.state, action)][new_state] += 1\n",
        "      self.state = self.env.reset() if is_done else new_state\n",
        "\n",
        "  def calc_action_value(self, state, action):\n",
        "      target_counts = self.transits[(state, action)]\n",
        "      total = sum(target_counts.values())\n",
        "      action_value = 0.0\n",
        "      for tgt_state, count in target_counts.items():\n",
        "          reward = self.rewards[(state, action, tgt_state)]\n",
        "          action_value += (count / total) * (reward + GAMMA * self.values[tgt_state])\n",
        "      return action_value\n",
        "\n",
        "  def select_action(self, state):\n",
        "      best_action, best_value = None, None\n",
        "      for action in range(self.env.action_space.n):\n",
        "          action_value = self.calc_action_value(state, action)\n",
        "          if best_value is None or best_value < action_value:\n",
        "              best_value = action_value\n",
        "              best_action = action\n",
        "      return best_action\n",
        "\n",
        "  def play_episode(self, env):\n",
        "      total_reward = 0.0\n",
        "      state = env.reset()\n",
        "      while True:\n",
        "          action = self.select_action(state)\n",
        "          new_state, reward, is_done, _ = env.step(action)\n",
        "          self.rewards[(state, action, new_state)] = reward\n",
        "          self.transits[(state, action)][new_state] += 1\n",
        "          total_reward += reward\n",
        "          if is_done:\n",
        "              break\n",
        "          state = new_state\n",
        "      return total_reward\n",
        "\n",
        "  def value_iteration(self):\n",
        "      for state in range(self.env.observation_space.n):\n",
        "          state_values = [self.calc_action_value(state, action)\n",
        "                          for action in range(self.env.action_space.n)]\n",
        "          self.values[state] = max(state_values)"
      ],
      "execution_count": 10,
      "outputs": []
    },
    {
      "cell_type": "code",
      "metadata": {
        "id": "D8t7wz6fS3Q0",
        "colab_type": "code",
        "colab": {
          "base_uri": "https://localhost:8080/",
          "height": 159
        },
        "outputId": "0f7833ab-94f1-4ad6-a12e-31369d7d5454"
      },
      "source": [
        "test_env = gym.make(ENV_NAME)\n",
        "agent = Agent()\n",
        "#writer = SummaryWriter(comment=\"-v-iteration\")\n",
        "\n",
        "iter_no = 0\n",
        "best_reward = 0.0\n",
        "while True:\n",
        "    iter_no += 1\n",
        "    agent.play_n_random_steps(100)\n",
        "    agent.value_iteration()\n",
        "\n",
        "    reward = 0.0\n",
        "    for _ in range(TEST_EPISODES):\n",
        "        reward += agent.play_episode(test_env)\n",
        "    reward /= TEST_EPISODES\n",
        "    #writer.add_scalar(\"reward\", reward, iter_no)\n",
        "    if reward > best_reward:\n",
        "        print(\"Best reward updated %.3f -> %.3f\" % (best_reward, reward))\n",
        "        best_reward = reward\n",
        "    if reward > 0.80:\n",
        "        print(\"Solved in %d iterations!\" % iter_no)\n",
        "        break"
      ],
      "execution_count": 12,
      "outputs": [
        {
          "output_type": "stream",
          "text": [
            "Best reward updated 0.000 -> 0.100\n",
            "Best reward updated 0.100 -> 0.300\n",
            "Best reward updated 0.300 -> 0.350\n",
            "Best reward updated 0.350 -> 0.600\n",
            "Best reward updated 0.600 -> 0.650\n",
            "Best reward updated 0.650 -> 0.700\n",
            "Best reward updated 0.700 -> 0.850\n",
            "Solved in 22 iterations!\n"
          ],
          "name": "stdout"
        }
      ]
    },
    {
      "cell_type": "code",
      "metadata": {
        "id": "M3CqRxCArhAE",
        "colab_type": "code",
        "colab": {}
      },
      "source": [
        ""
      ],
      "execution_count": null,
      "outputs": []
    }
  ]
}